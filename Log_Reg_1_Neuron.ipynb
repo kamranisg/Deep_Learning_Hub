{
 "cells": [
  {
   "cell_type": "code",
   "execution_count": 1,
   "metadata": {},
   "outputs": [],
   "source": [
    "import tensorflow as tf\n",
    "import matplotlib.pyplot as plt\n",
    "import numpy as np"
   ]
  },
  {
   "cell_type": "code",
   "execution_count": 2,
   "metadata": {},
   "outputs": [],
   "source": [
    "from tensorflow.keras.datasets import cifar10"
   ]
  },
  {
   "cell_type": "code",
   "execution_count": 96,
   "metadata": {},
   "outputs": [],
   "source": [
    "(x_train,y_train),(x_test,y_test)=cifar10.load_data()"
   ]
  },
  {
   "cell_type": "code",
   "execution_count": 97,
   "metadata": {},
   "outputs": [
    {
     "name": "stdout",
     "output_type": "stream",
     "text": [
      "(50000, 32, 32, 3)\n",
      "(3072, 300) (3072, 50) (300, 1) (50, 1)\n"
     ]
    }
   ],
   "source": [
    "print(x_train.shape)\n",
    "x_train=x_train.reshape(3072,50000)\n",
    "x_test=x_test.reshape(3072,10000)\n",
    "x_train=x_train[:,:300]\n",
    "x_test=x_test[:,:50]\n",
    "y_train=y_train[:300]\n",
    "y_test=y_test[:50]\n",
    "print(x_train.shape,x_test.shape,y_train.shape,y_test.shape)"
   ]
  },
  {
   "cell_type": "code",
   "execution_count": 98,
   "metadata": {},
   "outputs": [
    {
     "name": "stdout",
     "output_type": "stream",
     "text": [
      "(1, 300)\n"
     ]
    }
   ],
   "source": [
    "y_train=y_train.T\n",
    "print(y_train.shape)"
   ]
  },
  {
   "cell_type": "code",
   "execution_count": 99,
   "metadata": {},
   "outputs": [],
   "source": [
    "x_train=x_train/255\n",
    "x_test=x_test/255"
   ]
  },
  {
   "cell_type": "code",
   "execution_count": 117,
   "metadata": {},
   "outputs": [],
   "source": [
    "w=np.zeros((3072,1))\n",
    "b=0\n",
    "costs=[]\n",
    "learning_rate=0.0000005\n",
    "for i in range(3000):\n",
    "    \n",
    "    # FORWARD PROPAGATION\n",
    "    a=1/(1+np.exp(-(np.dot(w.T,x_train) +b)))  \n",
    "    \n",
    "    # COMPUTE COST FUNCTION\n",
    "    cost= -(np.dot(y_train,(np.log(a)).T) + np.dot(1-y_train,(np.log(1-a)).T))/300\n",
    "    \n",
    "    # BACKWARD PROPAGATION\n",
    "    dw=np.dot(x_train,(a-y_train).T)/300\n",
    "    db=np.sum(a-y_train)/300\n",
    "    \n",
    "    if (i%100==0):\n",
    "        costs.append(cost)\n",
    "    \n",
    "    # UPDATE THE PARAMETERS\n",
    "    w=w+learning_rate*dw\n",
    "    b=b+learning_rate*db\n",
    "    \n",
    "  \n",
    "        \n",
    "    "
   ]
  },
  {
   "cell_type": "code",
   "execution_count": 118,
   "metadata": {},
   "outputs": [
    {
     "data": {
      "text/plain": [
       "Text(0, 0.5, 'COST')"
      ]
     },
     "execution_count": 118,
     "metadata": {},
     "output_type": "execute_result"
    },
    {
     "data": {
      "image/png": "[encoded data removed]",
      "text/plain": [
       "<Figure size 432x288 with 1 Axes>"
      ]
     },
     "metadata": {
      "needs_background": "light"
     },
     "output_type": "display_data"
    }
   ],
   "source": [
    "d={\"costs\": costs}\n",
    "costs = np.squeeze(d['costs'])\n",
    "plt.plot(costs)\n",
    "plt.xlabel('Iterations')\n",
    "plt.ylabel('COST')"
   ]
  },
  {
   "cell_type": "code",
   "execution_count": 119,
   "metadata": {},
   "outputs": [
    {
     "name": "stdout",
     "output_type": "stream",
     "text": [
      "21.74796495864357\n"
     ]
    }
   ],
   "source": [
    "print(np.min(costs))"
   ]
  },
  {
   "cell_type": "code",
   "execution_count": 136,
   "metadata": {},
   "outputs": [],
   "source": [
    "y_pred=np.zeros((1,300))\n",
    "A = 1/(1+np.exp(-(np.dot(w.T,x_train)+b)))\n",
    "\n",
    "d=A/np.max(A)\n",
    "\n",
    "for i in range(300):\n",
    "    if(d[0][i]<=0.91):\n",
    "        y_pred[0][i]=0\n",
    "    elif(d[0][i]>0.91 and d[0][i]<=0.92):\n",
    "        y_pred[0][i]=1\n",
    "    elif(d[0][i]>0.92 and d[0][i]<=0.93):\n",
    "        y_pred[0][i]=2\n",
    "    elif(d[0][i]>0.93 and d[0][i]<=0.94):\n",
    "        y_pred[0][i]=3\n",
    "    elif(d[0][i]>0.94 and d[0][i]<=0.95):\n",
    "        y_pred[0][i]=4\n",
    "    elif(d[0][i]>0.95 and d[0][i]<=0.96):\n",
    "        y_pred[0][i]=5\n",
    "    elif(d[0][i]>0.96 and d[0][i]<=0.97):\n",
    "        y_pred[0][i]=6\n",
    "    elif(d[0][i]>0.97 and d[0][i]<=0.98):\n",
    "        y_pred[0][i]=7\n",
    "    elif(d[0][i]>0.98 and d[0][i]<=0.99):\n",
    "        y_pred[0][i]=8   \n",
    "    elif(d[0][i]>0.99):\n",
    "        y_pred[0][i]=9    "
   ]
  },
  {
   "cell_type": "code",
   "execution_count": 140,
   "metadata": {},
   "outputs": [
    {
     "name": "stdout",
     "output_type": "stream",
     "text": [
      "(1, 300)\n",
      "0.006115577230133047\n",
      "(1, 300)\n"
     ]
    }
   ],
   "source": [
    "print(y_pred.shape)\n",
    "print(np.mean(A))\n",
    "print(y_train.shape)"
   ]
  },
  {
   "cell_type": "code",
   "execution_count": 145,
   "metadata": {},
   "outputs": [
    {
     "name": "stdout",
     "output_type": "stream",
     "text": [
      "train accuracy: 96.87 %\n"
     ]
    }
   ],
   "source": [
    "print(\"train accuracy: {} %\".format(100 - np.mean(np.abs(y_pred - y_train))))\n",
    "y_pred_test=np.zeros((1,50))\n",
    "A = 1/(1+np.exp(-(np.dot(w.T,x_test)+b)))\n",
    "\n",
    "d_test=A/np.max(A)\n",
    "\n",
    "for i in range(50):\n",
    "    if(d_test[0][i]<=0.91):\n",
    "        y_pred_test[0][i]=0\n",
    "    elif(d_test[0][i]>0.91 and d_test[0][i]<=0.92):\n",
    "        y_pred_test[0][i]=1\n",
    "    elif(d_test[0][i]>0.92 and d_test[0][i]<=0.93):\n",
    "        y_pred_test[0][i]=2\n",
    "    elif(d_test[0][i]>0.93 and d_test[0][i]<=0.94):\n",
    "        y_pred_test[0][i]=3\n",
    "    elif(d_test[0][i]>0.94 and d_test[0][i]<=0.95):\n",
    "        y_pred_test[0][i]=4\n",
    "    elif(d_test[0][i]>0.95 and d_test[0][i]<=0.96):\n",
    "        y_pred_test[0][i]=5\n",
    "    elif(d_test[0][i]>0.96 and d_test[0][i]<=0.97):\n",
    "        y_pred_test[0][i]=6\n",
    "    elif(d_test[0][i]>0.97 and d_test[0][i]<=0.98):\n",
    "        y_pred_test[0][i]=7\n",
    "    elif(d_test[0][i]>0.98 and d_test[0][i]<=0.99):\n",
    "        y_pred_test[0][i]=8   \n",
    "    elif(d_test[0][i]>0.99):\n",
    "        y_pred_test[0][i]=9    "
   ]
  },
  {
   "cell_type": "code",
   "execution_count": 147,
   "metadata": {},
   "outputs": [
    {
     "name": "stdout",
     "output_type": "stream",
     "text": [
      "test accuracy: 94.86 %\n"
     ]
    }
   ],
   "source": [
    "print(\"test accuracy: {} %\".format(100 - np.mean(np.abs(y_pred_test - y_test))))"
   ]
  },
  {
   "cell_type": "code",
   "execution_count": null,
   "metadata": {},
   "outputs": [],
   "source": []
  }
 ],
 "metadata": {
  "kernelspec": {
   "display_name": "Python 3",
   "language": "python",
   "name": "python3"
  },
  "language_info": {
   "codemirror_mode": {
    "name": "ipython",
    "version": 3
   },
   "file_extension": ".py",
   "mimetype": "text/x-python",
   "name": "python",
   "nbconvert_exporter": "python",
   "pygments_lexer": "ipython3",
   "version": "3.7.3"
  }
 },
 "nbformat": 4,
 "nbformat_minor": 2
}
